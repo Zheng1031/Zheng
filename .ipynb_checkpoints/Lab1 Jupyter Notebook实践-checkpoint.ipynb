{
 "cells": [
  {
   "cell_type": "markdown",
   "metadata": {
    "slideshow": {
     "slide_type": "slide"
    }
   },
   "source": [
    "# Lab1 Jupyter notebook实践"
   ]
  },
  {
   "cell_type": "markdown",
   "metadata": {
    "slideshow": {
     "slide_type": "subslide"
    }
   },
   "source": [
    "#### 学号：18309113    \n",
    "#### 姓名：郑智展      \n",
    "#### 学院：电子信息与工程学院     \n",
    "#### 专业：通信工程"
   ]
  },
  {
   "cell_type": "markdown",
   "metadata": {
    "slideshow": {
     "slide_type": "slide"
    }
   },
   "source": [
    "### 1. 实验目的：\n",
    "熟悉使用Jupyter notebook模式下的PYTHON编译环境，练习其基本操作，尝试插入notebook链接、插入图片、打印数学公式、编写成幻灯片模式并演示。"
   ]
  },
  {
   "cell_type": "markdown",
   "metadata": {
    "slideshow": {
     "slide_type": "fragment"
    }
   },
   "source": [
    "### 2. 实验环境：\n",
    "Jupyter Notebook（Anaconda）"
   ]
  },
  {
   "cell_type": "markdown",
   "metadata": {
    "slideshow": {
     "slide_type": "slide"
    }
   },
   "source": [
    "### 3. 实验步骤：\n",
    "(1) 运行Jupyter notebook\n",
    "(2) 创建Notebook文件\n",
    "(3) Cell操作练习\n",
    "(4) 导入代码（本地.py文件、网络代码)\n",
    "(5) 使用Magic Functions习题练习\n",
    "(6) 幻灯片制作"
   ]
  },
  {
   "cell_type": "markdown",
   "metadata": {
    "slideshow": {
     "slide_type": "slide"
    }
   },
   "source": [
    "### 4. 实验结果与分析："
   ]
  },
  {
   "cell_type": "code",
   "execution_count": 1,
   "metadata": {
    "slideshow": {
     "slide_type": "subslide"
    }
   },
   "outputs": [
    {
     "name": "stderr",
     "output_type": "stream",
     "text": [
      "D:\\Anaconda3\\envs\\tensorflow\\lib\\site-packages\\tensorflow\\python\\framework\\dtypes.py:455: FutureWarning: Passing (type, 1) or '1type' as a synonym of type is deprecated; in a future version of numpy, it will be understood as (type, (1,)) / '(1,)type'.\n",
      "  _np_qint8 = np.dtype([(\"qint8\", np.int8, 1)])\n",
      "D:\\Anaconda3\\envs\\tensorflow\\lib\\site-packages\\tensorflow\\python\\framework\\dtypes.py:456: FutureWarning: Passing (type, 1) or '1type' as a synonym of type is deprecated; in a future version of numpy, it will be understood as (type, (1,)) / '(1,)type'.\n",
      "  _np_quint8 = np.dtype([(\"quint8\", np.uint8, 1)])\n",
      "D:\\Anaconda3\\envs\\tensorflow\\lib\\site-packages\\tensorflow\\python\\framework\\dtypes.py:457: FutureWarning: Passing (type, 1) or '1type' as a synonym of type is deprecated; in a future version of numpy, it will be understood as (type, (1,)) / '(1,)type'.\n",
      "  _np_qint16 = np.dtype([(\"qint16\", np.int16, 1)])\n",
      "D:\\Anaconda3\\envs\\tensorflow\\lib\\site-packages\\tensorflow\\python\\framework\\dtypes.py:458: FutureWarning: Passing (type, 1) or '1type' as a synonym of type is deprecated; in a future version of numpy, it will be understood as (type, (1,)) / '(1,)type'.\n",
      "  _np_quint16 = np.dtype([(\"quint16\", np.uint16, 1)])\n",
      "D:\\Anaconda3\\envs\\tensorflow\\lib\\site-packages\\tensorflow\\python\\framework\\dtypes.py:459: FutureWarning: Passing (type, 1) or '1type' as a synonym of type is deprecated; in a future version of numpy, it will be understood as (type, (1,)) / '(1,)type'.\n",
      "  _np_qint32 = np.dtype([(\"qint32\", np.int32, 1)])\n",
      "D:\\Anaconda3\\envs\\tensorflow\\lib\\site-packages\\tensorflow\\python\\framework\\dtypes.py:462: FutureWarning: Passing (type, 1) or '1type' as a synonym of type is deprecated; in a future version of numpy, it will be understood as (type, (1,)) / '(1,)type'.\n",
      "  np_resource = np.dtype([(\"resource\", np.ubyte, 1)])\n"
     ]
    },
    {
     "name": "stdout",
     "output_type": "stream",
     "text": [
      "b'hello,tensorflow!'\n"
     ]
    }
   ],
   "source": [
    "#利用tensorflow打印“hello，tensorflow！”\n",
    "import tensorflow as tf\n",
    "hello = tf.constant(\"hello,tensorflow!\")\n",
    "sess = tf.Session()\n",
    "print(sess.run(hello))"
   ]
  },
  {
   "cell_type": "markdown",
   "metadata": {
    "slideshow": {
     "slide_type": "slide"
    }
   },
   "source": [
    "### 5. 操作习题：答案"
   ]
  },
  {
   "cell_type": "markdown",
   "metadata": {
    "slideshow": {
     "slide_type": "slide"
    }
   },
   "source": [
    "### (1) 操作比较 %time range(10) 和 %%timeit range(10)"
   ]
  },
  {
   "cell_type": "code",
   "execution_count": 10,
   "metadata": {
    "slideshow": {
     "slide_type": "fragment"
    }
   },
   "outputs": [
    {
     "name": "stdout",
     "output_type": "stream",
     "text": [
      "Wall time: 0 ns\n"
     ]
    },
    {
     "data": {
      "text/plain": [
       "range(0, 10)"
      ]
     },
     "execution_count": 10,
     "metadata": {},
     "output_type": "execute_result"
    }
   ],
   "source": [
    "%time range(10)  # 利用 %time 函数计算range（10）时间"
   ]
  },
  {
   "cell_type": "code",
   "execution_count": 9,
   "metadata": {
    "slideshow": {
     "slide_type": "fragment"
    }
   },
   "outputs": [
    {
     "name": "stdout",
     "output_type": "stream",
     "text": [
      "671 ns ± 53.4 ns per loop (mean ± std. dev. of 7 runs, 1000000 loops each)\n"
     ]
    }
   ],
   "source": [
    "%%timeit \n",
    "range(10)  # 利用 %%timeit 函数计算range(10)时间"
   ]
  },
  {
   "cell_type": "markdown",
   "metadata": {
    "slideshow": {
     "slide_type": "fragment"
    }
   },
   "source": [
    "答：由上可看出二者区别：\n",
    "\n",
    "%time： 在行模式下，代码运行一次所花费的时间。\n",
    "\n",
    "%%time：在单元模式下，代码运行一次所花费的时间。\n",
    "\n",
    "%timeit： 在行模式下，执行代码块若干次，取最佳结果。\n",
    "\n",
    "%%timeit： 在单元模式下，执行代码块若干次，取最佳结果。\n",
    "\n",
    "(行模式： 只对紧跟其后的代码进行测试；单元模式： 用于代码块的测试。)"
   ]
  },
  {
   "cell_type": "markdown",
   "metadata": {
    "slideshow": {
     "slide_type": "slide"
    }
   },
   "source": [
    "### (2) 在notebook文档中，插入notebook链接：http://ipython.readthedocs.io/en/stable/interactive/magics.html "
   ]
  },
  {
   "cell_type": "markdown",
   "metadata": {
    "slideshow": {
     "slide_type": "fragment"
    }
   },
   "source": [
    "[这里是链接，点击查看网页Built-in magic commands](http://ipython.readthedocs.io/en/stable/interactive/magics.html)"
   ]
  },
  {
   "cell_type": "markdown",
   "metadata": {
    "slideshow": {
     "slide_type": "slide"
    }
   },
   "source": [
    "### (3) 任意截取一张图片，插入notebook文档中"
   ]
  },
  {
   "cell_type": "markdown",
   "metadata": {
    "slideshow": {
     "slide_type": "fragment"
    }
   },
   "source": [
    "![图片(百度logo)](http://www.baidu.com/img/PCtm_d9c8750bed0b3c7d089fa7d55720d6cf.png)"
   ]
  },
  {
   "cell_type": "markdown",
   "metadata": {
    "slideshow": {
     "slide_type": "fragment"
    }
   },
   "source": [
    "### (4) 如何在notebook中输入如下公式并显示"
   ]
  },
  {
   "cell_type": "markdown",
   "metadata": {
    "slideshow": {
     "slide_type": "fragment"
    }
   },
   "source": [
    "$ J_\\alpha(x) = \\sum_{m=0}^\\infty \\frac{(-1)^m}{m! \\Gamma (m + \\alpha + 1)} {\\left({ \\frac{x}{2} }\\right)}^{2m + \\alpha}$"
   ]
  },
  {
   "cell_type": "markdown",
   "metadata": {
    "slideshow": {
     "slide_type": "fragment"
    }
   },
   "source": [
    "作业题中公式：\n",
    "$$ L(a,b)=\\sum_{i=1}^n(y_i-(ax_i+n))^2 $$"
   ]
  },
  {
   "cell_type": "markdown",
   "metadata": {
    "slideshow": {
     "slide_type": "slide"
    }
   },
   "source": [
    "### (5) 将编写的notebook做成幻灯片形式，并进行演示"
   ]
  },
  {
   "cell_type": "markdown",
   "metadata": {
    "slideshow": {
     "slide_type": "fragment"
    }
   },
   "source": [
    "[本练习源代码](https://github.com/Zheng1031/Zheng)"
   ]
  },
  {
   "cell_type": "markdown",
   "metadata": {
    "slideshow": {
     "slide_type": "fragment"
    }
   },
   "source": [
    "[本练习PPT在nbviewer中展示链接](https://nbviewer.jupyter.org/github/Zheng1031/Zheng/blob/master/jupyter_slide.slides.html#/)"
   ]
  },
  {
   "cell_type": "markdown",
   "metadata": {},
   "source": [
    "[本练习本地生成.html文件](file:///C:/Users/XC/Anaconda/Jupyter文件集/Lab1/Lab1%20Jupyter%20Notebook实践.slides.html#/)"
   ]
  },
  {
   "cell_type": "markdown",
   "metadata": {
    "slideshow": {
     "slide_type": "slide"
    }
   },
   "source": [
    "### 6. 实验总结（问题、解决方法、体会、设计建议）："
   ]
  },
  {
   "cell_type": "markdown",
   "metadata": {
    "slideshow": {
     "slide_type": "slide"
    }
   },
   "source": [
    "#### 问题：\n",
    "(1) 初学阶段，分不清运行Jupyter Notebook所需要搭建的各种环境区别，以及Python基础上的各类库的用法；\n",
    "(2) 在执行“hello，tensorflow！”程序段时，在tensorflow环境中无法执行；\n",
    "(3) 在将.ipynb文件制作成网页PPT形式时，无法通过命令行实现。\n",
    "#### 解决方法：\n",
    "(1) 关于各类与运行环境和相关扩展库的不熟悉，查阅了大量线上线下资料并上机实操进行练习；\n",
    "(2) 在Anaconda软件中下载tensor相关环境；\n",
    "(3) 根据网络教程，将Jupyter编写的.ipynb文件上载至个人Github网点，通过nbviewer网站提供的网页进行在线展示，可脱离原代码。\n",
    "#### 体会：\n",
    "(1) 软件编程类科目需要长久且持续的实际练习积累，并且要善于查找资料从海量资料中提取有用信息，理解并尝试；\n",
    "(2) Jupyter Notebook软件确实非常方便实用，将代码与文字美观快捷的结合在一起；\n",
    "(3) 对未来的课程更加好奇兴奋。\n",
    "#### 设计建议：\n",
    "(1) 对Jupyter平台下的各类库的下载和嵌套关系更加清楚，处理好电脑内存；\n",
    "(2) 基础联系更加简洁熟练。"
   ]
  }
 ],
 "metadata": {
  "celltoolbar": "Slideshow",
  "kernelspec": {
   "display_name": "Python 3",
   "language": "python",
   "name": "python3"
  },
  "language_info": {
   "codemirror_mode": {
    "name": "ipython",
    "version": 3
   },
   "file_extension": ".py",
   "mimetype": "text/x-python",
   "name": "python",
   "nbconvert_exporter": "python",
   "pygments_lexer": "ipython3",
   "version": "3.8.3"
  }
 },
 "nbformat": 4,
 "nbformat_minor": 2
}
